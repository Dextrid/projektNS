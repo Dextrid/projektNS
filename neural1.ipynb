{
  "cells": [
    {
      "metadata": {
        "trusted": true
      },
      "cell_type": "code",
      "source": "import sys\nimport pandas as pd\nimport numpy as np\nimport sklearn\nimport matplotlib\nimport keras\nimport tensorflow as tf\n# tensorflow moze optimalizovat proces grafu a distribuovat ho po sieti\n# keras ma rychle a presne vysledky",
      "execution_count": 1,
      "outputs": [
        {
          "output_type": "stream",
          "text": "Using TensorFlow backend.\n",
          "name": "stderr"
        }
      ]
    },
    {
      "metadata": {
        "trusted": true
      },
      "cell_type": "code",
      "source": "import matplotlib.pyplot as plt\nfrom pandas.plotting import scatter_matrix\ncleveland = pd.read_csv('heart.csv') # nacitanie suboru\n\n#data = cleveland[~cleveland.isin(['?'])]\ndata = cleveland.dropna(axis = 0) # vymaz riadky kde aspon jeden element sa rovna 0\ndata = data.apply(pd.to_numeric) # transformuje data na cisla\n\nfrom sklearn import model_selection\n#rozdelenie na input(X) a output(y)\nX = np.array(data.drop(['target'],axis = 1)) # konvertuje pandas na numpy bez stlpca target \ny = np.array(data['target']) \n\nX_train, X_test, y_train, y_test = model_selection.train_test_split(X,y,test_size = 0.2) # rozdeli data na trenovacie a testovacie v pome 80%:20%\n\nfrom keras.utils.np_utils import to_categorical\nprint (y_train.shape)\nprint (y_train[:10])\nY_train = to_categorical(y_train, num_classes = None)# konvertuje na maticu tak ze bude mat rovnaky pocet stlpcov ako je tried,pocet riadkov sa nemeni\nY_test = to_categorical(y_test, num_classes = None)\nprint (Y_train.shape)\nprint (Y_train[:10])",
      "execution_count": 2,
      "outputs": [
        {
          "output_type": "stream",
          "text": "(242,)\n[0 1 1 0 1 1 1 1 0 0]\n(242, 2)\n[[1. 0.]\n [0. 1.]\n [0. 1.]\n [1. 0.]\n [0. 1.]\n [0. 1.]\n [0. 1.]\n [0. 1.]\n [1. 0.]\n [1. 0.]]\n",
          "name": "stdout"
        }
      ]
    }
  ],
  "metadata": {
    "kernelspec": {
      "name": "python36",
      "display_name": "Python 3.6",
      "language": "python"
    },
    "language_info": {
      "mimetype": "text/x-python",
      "nbconvert_exporter": "python",
      "name": "python",
      "pygments_lexer": "ipython3",
      "version": "3.6.6",
      "file_extension": ".py",
      "codemirror_mode": {
        "version": 3,
        "name": "ipython"
      }
    }
  },
  "nbformat": 4,
  "nbformat_minor": 2
}